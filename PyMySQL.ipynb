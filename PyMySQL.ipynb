{
 "metadata": {
  "language_info": {
   "codemirror_mode": {
    "name": "ipython",
    "version": 3
   },
   "file_extension": ".py",
   "mimetype": "text/x-python",
   "name": "python",
   "nbconvert_exporter": "python",
   "pygments_lexer": "ipython3",
   "version": ""
  },
  "orig_nbformat": 2,
  "kernelspec": {
   "name": "pythonjvsc74a57bd0ee5cc6fef2d70a7e71ee3826687cbd150f18158e0b1eef11d4f4f92bb920e304",
   "display_name": "Python"
  },
  "metadata": {
   "interpreter": {
    "hash": "ee5cc6fef2d70a7e71ee3826687cbd150f18158e0b1eef11d4f4f92bb920e304"
   }
  }
 },
 "nbformat": 4,
 "nbformat_minor": 2,
 "cells": [
  {
   "cell_type": "code",
   "execution_count": 1,
   "metadata": {},
   "outputs": [],
   "source": [
    "# Import libraries\n",
    "import mysql.connector \n",
    "import pandas as pd"
   ]
  },
  {
   "cell_type": "code",
   "execution_count": 2,
   "metadata": {},
   "outputs": [],
   "source": [
    "# Create connection\n",
    "mydb = mysql.connector.connect(\n",
    "    host = 'localhost',\n",
    "    user = 'root',\n",
    "    passwd = '101014sd',\n",
    "    database = 'sakila'\n",
    ")"
   ]
  },
  {
   "cell_type": "code",
   "execution_count": 8,
   "metadata": {},
   "outputs": [
    {
     "output_type": "execute_result",
     "data": {
      "text/plain": [
       "              title category  length\n",
       "0   DOWNHILL ENOUGH   Comedy      47\n",
       "1  PARADISE SABRINA   Comedy      48\n",
       "2    HEAVEN FREEDOM   Comedy      48\n",
       "3  HURRICANE AFFAIR   Comedy      49\n",
       "4        LION UNCUT   Comedy      50\n",
       "5         ZORRO ARK   Comedy      50\n",
       "6       CLOSER BANG   Comedy      58\n",
       "7   AIRPLANE SIERRA   Comedy      62\n",
       "8   LONELY ELEPHANT   Comedy      67\n",
       "9      DOOM DANCING   Comedy      68"
      ],
      "text/html": "<div>\n<style scoped>\n    .dataframe tbody tr th:only-of-type {\n        vertical-align: middle;\n    }\n\n    .dataframe tbody tr th {\n        vertical-align: top;\n    }\n\n    .dataframe thead th {\n        text-align: right;\n    }\n</style>\n<table border=\"1\" class=\"dataframe\">\n  <thead>\n    <tr style=\"text-align: right;\">\n      <th></th>\n      <th>title</th>\n      <th>category</th>\n      <th>length</th>\n    </tr>\n  </thead>\n  <tbody>\n    <tr>\n      <th>0</th>\n      <td>DOWNHILL ENOUGH</td>\n      <td>Comedy</td>\n      <td>47</td>\n    </tr>\n    <tr>\n      <th>1</th>\n      <td>PARADISE SABRINA</td>\n      <td>Comedy</td>\n      <td>48</td>\n    </tr>\n    <tr>\n      <th>2</th>\n      <td>HEAVEN FREEDOM</td>\n      <td>Comedy</td>\n      <td>48</td>\n    </tr>\n    <tr>\n      <th>3</th>\n      <td>HURRICANE AFFAIR</td>\n      <td>Comedy</td>\n      <td>49</td>\n    </tr>\n    <tr>\n      <th>4</th>\n      <td>LION UNCUT</td>\n      <td>Comedy</td>\n      <td>50</td>\n    </tr>\n    <tr>\n      <th>5</th>\n      <td>ZORRO ARK</td>\n      <td>Comedy</td>\n      <td>50</td>\n    </tr>\n    <tr>\n      <th>6</th>\n      <td>CLOSER BANG</td>\n      <td>Comedy</td>\n      <td>58</td>\n    </tr>\n    <tr>\n      <th>7</th>\n      <td>AIRPLANE SIERRA</td>\n      <td>Comedy</td>\n      <td>62</td>\n    </tr>\n    <tr>\n      <th>8</th>\n      <td>LONELY ELEPHANT</td>\n      <td>Comedy</td>\n      <td>67</td>\n    </tr>\n    <tr>\n      <th>9</th>\n      <td>DOOM DANCING</td>\n      <td>Comedy</td>\n      <td>68</td>\n    </tr>\n  </tbody>\n</table>\n</div>"
     },
     "metadata": {},
     "execution_count": 8
    }
   ],
   "source": [
    "# Soal 1\n",
    "mycursor = mydb.cursor()\n",
    "\n",
    "query = 'SELECT f.title, c.name AS category, f.length FROM category AS c INNER JOIN film_category AS fc USING (category_id) INNER JOIN film AS f USING (film_id) WHERE name=\"Comedy\" ORDER BY (length) asc LIMIT 10'\n",
    "\n",
    "mycursor.execute(query)\n",
    "\n",
    "result = mycursor.fetchall()\n",
    "\n",
    "df = pd.DataFrame(result, columns = mycursor.column_names)\n",
    "df"
   ]
  },
  {
   "cell_type": "code",
   "execution_count": 15,
   "metadata": {},
   "outputs": [
    {
     "output_type": "execute_result",
     "data": {
      "text/plain": [
       "       category  jumlahMovie rataHargaSewa\n",
       "0        Sports           74      3.125135\n",
       "1       Foreign           73      3.099589\n",
       "2        Family           69      2.758116\n",
       "3   Documentary           68      2.666471\n",
       "4     Animation           66      2.808182\n",
       "5        Action           64      2.646250\n",
       "6           New           63      3.116984\n",
       "7         Drama           62      3.022258\n",
       "8         Games           61      3.252295\n",
       "9        Sci-Fi           61      3.219508\n",
       "10     Children           60      2.890000\n",
       "11       Comedy           58      3.162414\n",
       "12     Classics           57      2.744386\n",
       "13       Travel           57      3.235614\n",
       "14       Horror           56      3.025714\n",
       "15        Music           51      2.950784"
      ],
      "text/html": "<div>\n<style scoped>\n    .dataframe tbody tr th:only-of-type {\n        vertical-align: middle;\n    }\n\n    .dataframe tbody tr th {\n        vertical-align: top;\n    }\n\n    .dataframe thead th {\n        text-align: right;\n    }\n</style>\n<table border=\"1\" class=\"dataframe\">\n  <thead>\n    <tr style=\"text-align: right;\">\n      <th></th>\n      <th>category</th>\n      <th>jumlahMovie</th>\n      <th>rataHargaSewa</th>\n    </tr>\n  </thead>\n  <tbody>\n    <tr>\n      <th>0</th>\n      <td>Sports</td>\n      <td>74</td>\n      <td>3.125135</td>\n    </tr>\n    <tr>\n      <th>1</th>\n      <td>Foreign</td>\n      <td>73</td>\n      <td>3.099589</td>\n    </tr>\n    <tr>\n      <th>2</th>\n      <td>Family</td>\n      <td>69</td>\n      <td>2.758116</td>\n    </tr>\n    <tr>\n      <th>3</th>\n      <td>Documentary</td>\n      <td>68</td>\n      <td>2.666471</td>\n    </tr>\n    <tr>\n      <th>4</th>\n      <td>Animation</td>\n      <td>66</td>\n      <td>2.808182</td>\n    </tr>\n    <tr>\n      <th>5</th>\n      <td>Action</td>\n      <td>64</td>\n      <td>2.646250</td>\n    </tr>\n    <tr>\n      <th>6</th>\n      <td>New</td>\n      <td>63</td>\n      <td>3.116984</td>\n    </tr>\n    <tr>\n      <th>7</th>\n      <td>Drama</td>\n      <td>62</td>\n      <td>3.022258</td>\n    </tr>\n    <tr>\n      <th>8</th>\n      <td>Games</td>\n      <td>61</td>\n      <td>3.252295</td>\n    </tr>\n    <tr>\n      <th>9</th>\n      <td>Sci-Fi</td>\n      <td>61</td>\n      <td>3.219508</td>\n    </tr>\n    <tr>\n      <th>10</th>\n      <td>Children</td>\n      <td>60</td>\n      <td>2.890000</td>\n    </tr>\n    <tr>\n      <th>11</th>\n      <td>Comedy</td>\n      <td>58</td>\n      <td>3.162414</td>\n    </tr>\n    <tr>\n      <th>12</th>\n      <td>Classics</td>\n      <td>57</td>\n      <td>2.744386</td>\n    </tr>\n    <tr>\n      <th>13</th>\n      <td>Travel</td>\n      <td>57</td>\n      <td>3.235614</td>\n    </tr>\n    <tr>\n      <th>14</th>\n      <td>Horror</td>\n      <td>56</td>\n      <td>3.025714</td>\n    </tr>\n    <tr>\n      <th>15</th>\n      <td>Music</td>\n      <td>51</td>\n      <td>2.950784</td>\n    </tr>\n  </tbody>\n</table>\n</div>"
     },
     "metadata": {},
     "execution_count": 15
    }
   ],
   "source": [
    "# Soal 2\n",
    "mycursor = mydb.cursor()\n",
    "\n",
    "query = 'SELECT c.name AS category, COUNT(fc.category_id) AS jumlahMovie , AVG(f.rental_rate) AS rataHargaSewa FROM category AS c INNER JOIN film_category AS fc USING (category_id) INNER JOIN film AS f USING (film_id) GROUP BY (category) ORDER BY (jumlahMovie) desc'\n",
    "\n",
    "mycursor.execute(query)\n",
    "\n",
    "result = mycursor.fetchall()\n",
    "\n",
    "df = pd.DataFrame(result, columns = mycursor.column_names)\n",
    "df"
   ]
  },
  {
   "cell_type": "code",
   "execution_count": 17,
   "metadata": {},
   "outputs": [
    {
     "output_type": "execute_result",
     "data": {
      "text/plain": [
       "   actor_id first_name  last_name  jumlah_Movie\n",
       "0       107       GINA  DEGENERES            42\n",
       "1       102     WALTER       TORN            41\n",
       "2       198       MARY     KEITEL            40\n",
       "3       181    MATTHEW     CARREY            39\n",
       "4        23     SANDRA     KILMER            37\n",
       "5        81   SCARLETT      DAMON            36\n",
       "6        37        VAL     BOLGER            35\n",
       "7       158     VIVIEN   BASINGER            35\n",
       "8       106    GROUCHO      DUNST            35\n",
       "9        13        UMA       WOOD            35"
      ],
      "text/html": "<div>\n<style scoped>\n    .dataframe tbody tr th:only-of-type {\n        vertical-align: middle;\n    }\n\n    .dataframe tbody tr th {\n        vertical-align: top;\n    }\n\n    .dataframe thead th {\n        text-align: right;\n    }\n</style>\n<table border=\"1\" class=\"dataframe\">\n  <thead>\n    <tr style=\"text-align: right;\">\n      <th></th>\n      <th>actor_id</th>\n      <th>first_name</th>\n      <th>last_name</th>\n      <th>jumlah_Movie</th>\n    </tr>\n  </thead>\n  <tbody>\n    <tr>\n      <th>0</th>\n      <td>107</td>\n      <td>GINA</td>\n      <td>DEGENERES</td>\n      <td>42</td>\n    </tr>\n    <tr>\n      <th>1</th>\n      <td>102</td>\n      <td>WALTER</td>\n      <td>TORN</td>\n      <td>41</td>\n    </tr>\n    <tr>\n      <th>2</th>\n      <td>198</td>\n      <td>MARY</td>\n      <td>KEITEL</td>\n      <td>40</td>\n    </tr>\n    <tr>\n      <th>3</th>\n      <td>181</td>\n      <td>MATTHEW</td>\n      <td>CARREY</td>\n      <td>39</td>\n    </tr>\n    <tr>\n      <th>4</th>\n      <td>23</td>\n      <td>SANDRA</td>\n      <td>KILMER</td>\n      <td>37</td>\n    </tr>\n    <tr>\n      <th>5</th>\n      <td>81</td>\n      <td>SCARLETT</td>\n      <td>DAMON</td>\n      <td>36</td>\n    </tr>\n    <tr>\n      <th>6</th>\n      <td>37</td>\n      <td>VAL</td>\n      <td>BOLGER</td>\n      <td>35</td>\n    </tr>\n    <tr>\n      <th>7</th>\n      <td>158</td>\n      <td>VIVIEN</td>\n      <td>BASINGER</td>\n      <td>35</td>\n    </tr>\n    <tr>\n      <th>8</th>\n      <td>106</td>\n      <td>GROUCHO</td>\n      <td>DUNST</td>\n      <td>35</td>\n    </tr>\n    <tr>\n      <th>9</th>\n      <td>13</td>\n      <td>UMA</td>\n      <td>WOOD</td>\n      <td>35</td>\n    </tr>\n  </tbody>\n</table>\n</div>"
     },
     "metadata": {},
     "execution_count": 17
    }
   ],
   "source": [
    "# Soal 3\n",
    "mycursor = mydb.cursor()\n",
    "\n",
    "query = 'SELECT a.actor_id, a.first_name, a.last_name, COUNT(fa.film_id) AS jumlah_Movie FROM actor AS a INNER JOIN film_actor AS fa USING (actor_id) GROUP BY (actor_id) ORDER BY (jumlah_Movie) desc LIMIT 10'\n",
    "\n",
    "mycursor.execute(query)\n",
    "\n",
    "result = mycursor.fetchall()\n",
    "\n",
    "df = pd.DataFrame(result, columns = mycursor.column_names)\n",
    "df"
   ]
  },
  {
   "cell_type": "code",
   "execution_count": 24,
   "metadata": {},
   "outputs": [
    {
     "output_type": "execute_result",
     "data": {
      "text/plain": [
       "       category  jumlah_Movie\n",
       "0   Documentary             3\n",
       "1       Foreign             2\n",
       "2         Music             4\n",
       "3           New             1\n",
       "4        Sci-Fi             7\n",
       "5        Action             3\n",
       "6         Drama             2\n",
       "7     Animation             4\n",
       "8        Horror             1\n",
       "9        Family             4\n",
       "10       Comedy             3\n",
       "11     Children             2\n",
       "12     Classics             2\n",
       "13       Sports             2\n",
       "14        Games             1\n",
       "15       Travel             1"
      ],
      "text/html": "<div>\n<style scoped>\n    .dataframe tbody tr th:only-of-type {\n        vertical-align: middle;\n    }\n\n    .dataframe tbody tr th {\n        vertical-align: top;\n    }\n\n    .dataframe thead th {\n        text-align: right;\n    }\n</style>\n<table border=\"1\" class=\"dataframe\">\n  <thead>\n    <tr style=\"text-align: right;\">\n      <th></th>\n      <th>category</th>\n      <th>jumlah_Movie</th>\n    </tr>\n  </thead>\n  <tbody>\n    <tr>\n      <th>0</th>\n      <td>Documentary</td>\n      <td>3</td>\n    </tr>\n    <tr>\n      <th>1</th>\n      <td>Foreign</td>\n      <td>2</td>\n    </tr>\n    <tr>\n      <th>2</th>\n      <td>Music</td>\n      <td>4</td>\n    </tr>\n    <tr>\n      <th>3</th>\n      <td>New</td>\n      <td>1</td>\n    </tr>\n    <tr>\n      <th>4</th>\n      <td>Sci-Fi</td>\n      <td>7</td>\n    </tr>\n    <tr>\n      <th>5</th>\n      <td>Action</td>\n      <td>3</td>\n    </tr>\n    <tr>\n      <th>6</th>\n      <td>Drama</td>\n      <td>2</td>\n    </tr>\n    <tr>\n      <th>7</th>\n      <td>Animation</td>\n      <td>4</td>\n    </tr>\n    <tr>\n      <th>8</th>\n      <td>Horror</td>\n      <td>1</td>\n    </tr>\n    <tr>\n      <th>9</th>\n      <td>Family</td>\n      <td>4</td>\n    </tr>\n    <tr>\n      <th>10</th>\n      <td>Comedy</td>\n      <td>3</td>\n    </tr>\n    <tr>\n      <th>11</th>\n      <td>Children</td>\n      <td>2</td>\n    </tr>\n    <tr>\n      <th>12</th>\n      <td>Classics</td>\n      <td>2</td>\n    </tr>\n    <tr>\n      <th>13</th>\n      <td>Sports</td>\n      <td>2</td>\n    </tr>\n    <tr>\n      <th>14</th>\n      <td>Games</td>\n      <td>1</td>\n    </tr>\n    <tr>\n      <th>15</th>\n      <td>Travel</td>\n      <td>1</td>\n    </tr>\n  </tbody>\n</table>\n</div>"
     },
     "metadata": {},
     "execution_count": 24
    }
   ],
   "source": [
    "# Soal 4\n",
    "mycursor = mydb.cursor()\n",
    "\n",
    "query = 'SELECT c.name AS category, COUNT(fa.film_id) AS jumlah_Movie FROM category as c INNER JOIN film_category AS fc USING (category_id) INNER JOIN film_actor AS fa USING (film_id) INNER JOIN actor AS a USING (actor_id) WHERE actor_id=107 GROUP BY (category)'\n",
    "\n",
    "mycursor.execute(query)\n",
    "\n",
    "result = mycursor.fetchall()\n",
    "\n",
    "df = pd.DataFrame(result, columns = mycursor.column_names)\n",
    "df"
   ]
  },
  {
   "cell_type": "code",
   "execution_count": 26,
   "metadata": {},
   "outputs": [
    {
     "output_type": "execute_result",
     "data": {
      "text/plain": [
       "                 title category\n",
       "0  CHARIOTS CONSPIRACY   Sci-Fi\n",
       "1  COLDBLOODED DARLING   Sci-Fi\n",
       "2       FRISCO FORREST   Sci-Fi\n",
       "3    GOODFELLAS SALUTE   Sci-Fi\n",
       "4      LICENSE WEEKEND   Sci-Fi\n",
       "5         OPEN AFRICAN   Sci-Fi\n",
       "6  SPIRITED CASUALTIES   Sci-Fi"
      ],
      "text/html": "<div>\n<style scoped>\n    .dataframe tbody tr th:only-of-type {\n        vertical-align: middle;\n    }\n\n    .dataframe tbody tr th {\n        vertical-align: top;\n    }\n\n    .dataframe thead th {\n        text-align: right;\n    }\n</style>\n<table border=\"1\" class=\"dataframe\">\n  <thead>\n    <tr style=\"text-align: right;\">\n      <th></th>\n      <th>title</th>\n      <th>category</th>\n    </tr>\n  </thead>\n  <tbody>\n    <tr>\n      <th>0</th>\n      <td>CHARIOTS CONSPIRACY</td>\n      <td>Sci-Fi</td>\n    </tr>\n    <tr>\n      <th>1</th>\n      <td>COLDBLOODED DARLING</td>\n      <td>Sci-Fi</td>\n    </tr>\n    <tr>\n      <th>2</th>\n      <td>FRISCO FORREST</td>\n      <td>Sci-Fi</td>\n    </tr>\n    <tr>\n      <th>3</th>\n      <td>GOODFELLAS SALUTE</td>\n      <td>Sci-Fi</td>\n    </tr>\n    <tr>\n      <th>4</th>\n      <td>LICENSE WEEKEND</td>\n      <td>Sci-Fi</td>\n    </tr>\n    <tr>\n      <th>5</th>\n      <td>OPEN AFRICAN</td>\n      <td>Sci-Fi</td>\n    </tr>\n    <tr>\n      <th>6</th>\n      <td>SPIRITED CASUALTIES</td>\n      <td>Sci-Fi</td>\n    </tr>\n  </tbody>\n</table>\n</div>"
     },
     "metadata": {},
     "execution_count": 26
    }
   ],
   "source": [
    "# Soal 5\n",
    "mycursor = mydb.cursor()\n",
    "\n",
    "query = 'SELECT fl.title, fl.category FROM film_list as fl INNER JOIN film_actor AS fa ON fl.FID = fa.film_id INNER JOIN actor AS a USING (actor_id) WHERE actor_id=107 and category=\"Sci-Fi\"'\n",
    "\n",
    "mycursor.execute(query)\n",
    "\n",
    "result = mycursor.fetchall()\n",
    "\n",
    "df = pd.DataFrame(result, columns = mycursor.column_names)\n",
    "df"
   ]
  },
  {
   "cell_type": "code",
   "execution_count": null,
   "metadata": {},
   "outputs": [],
   "source": []
  }
 ]
}